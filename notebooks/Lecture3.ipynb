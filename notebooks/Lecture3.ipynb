{
 "cells": [
  {
   "cell_type": "code",
   "execution_count": 21,
   "metadata": {},
   "outputs": [],
   "source": [
    "from timeit import timeit\n",
    "import numpy as np\n",
    "import matplotlib.pyplot as plt"
   ]
  },
  {
   "cell_type": "markdown",
   "metadata": {},
   "source": [
    "### Exercise 3.1 - Part A"
   ]
  },
  {
   "cell_type": "markdown",
   "metadata": {},
   "source": [
    "#### a)"
   ]
  },
  {
   "cell_type": "code",
   "execution_count": 15,
   "metadata": {},
   "outputs": [],
   "source": [
    "def polynomium(a, b, c, x):\n",
    "    return a*x**2 + b*x + c\n",
    "    \n",
    "\n",
    "def find_roots(a, b, c, dtype):\n",
    "   \n",
    "    if dtype == 16:\n",
    "        a = np.float16(a)\n",
    "        b = np.float16(b)\n",
    "        c = np.float16(c)\n",
    "        alpha = np.float16(np.sqrt(b**np.longdouble(2).astype(a) -np.longdouble(4).astype(a) * a * c))\n",
    "        x_a1 = np.float16((-b+alpha)/(2*a))\n",
    "        x_a2 = np.float16((-b-alpha)/(2*a))\n",
    "        x_b1 = np.float16((2*c)/(-b-alpha))\n",
    "        x_b2 = np.float16((2*c)/(-b+alpha))\n",
    "    \n",
    "    if dtype == 32:\n",
    "        a = np.float32(a)\n",
    "        b = np.float32(b)\n",
    "        c = np.float32(c)\n",
    "        alpha = np.float32(np.sqrt(b**np.longdouble(2).astype(a) -np.longdouble(4).astype(a) * a * c))\n",
    "        x_a1 = np.float32((-b+alpha)/(2*a))\n",
    "        x_a2 = np.float32((-b-alpha)/(2*a))\n",
    "        x_b1 = np.float32((2*c)/(-b-alpha))\n",
    "        x_b2 = np.float32((2*c)/(-b+alpha))\n",
    "        \n",
    "    if dtype == 64:\n",
    "        a = np.float64(a)\n",
    "        b = np.float64(b)\n",
    "        c = np.float64(c)\n",
    "        alpha = np.float64(np.sqrt(b**np.longdouble(2).astype(a) -np.longdouble(4).astype(a) * a * c))\n",
    "        x_a1 = np.float64((-b+alpha)/(2*a))\n",
    "        x_a2 = np.float64((-b-alpha)/(2*a))\n",
    "        x_b1 = np.float64((2*c)/(-b-alpha))\n",
    "        x_b2 = np.float64((2*c)/(-b+alpha))\n",
    "    \n",
    "    return x_a1, x_a2, x_b1, x_b2"
   ]
  },
  {
   "cell_type": "code",
   "execution_count": 18,
   "metadata": {},
   "outputs": [
    {
     "name": "stdout",
     "output_type": "stream",
     "text": [
      "inf -inf -0.0 0.0\n",
      "-3.0517578 -100000000.0 -1.0 -32768000.0\n",
      "-1.0000000088439265 -99999998.99999999 -1.0000000100000002 -99999999.11560737\n"
     ]
    },
    {
     "name": "stderr",
     "output_type": "stream",
     "text": [
      "/tmp/ipykernel_16096/2223974181.py:11: RuntimeWarning: overflow encountered in scalar power\n",
      "  alpha = np.float16(np.sqrt(b**np.longdouble(2).astype(a) -np.longdouble(4).astype(a) * a * c))\n"
     ]
    }
   ],
   "source": [
    "a = 10**-5\n",
    "b = 10**3\n",
    "c = 10**3\n",
    "\n",
    "bin16 = find_roots(a, b, c, 16)\n",
    "bin32 = find_roots(a, b, c, 32)\n",
    "bin64 = find_roots(a, b, c, 64)\n",
    "\n",
    "print(*bin16)\n",
    "print(*bin32)\n",
    "print(*bin64)"
   ]
  },
  {
   "cell_type": "markdown",
   "metadata": {},
   "source": [
    "It seems that the results vary greatly depending on the precision we use.\n",
    "\n",
    "If we use 16 bit there is overflows resulting in infinites. In 32 bit we get numerical results, but they are wrong.\n",
    "\n",
    "In 64 bit float we seem to get the right results."
   ]
  },
  {
   "cell_type": "markdown",
   "metadata": {},
   "source": [
    "#### b)"
   ]
  },
  {
   "cell_type": "code",
   "execution_count": null,
   "metadata": {},
   "outputs": [
    {
     "data": {
      "image/png": "[encoded data removed]",
      "text/plain": [
       "<Figure size 640x480 with 1 Axes>"
      ]
     },
     "metadata": {},
     "output_type": "display_data"
    }
   ],
   "source": [
    "\n",
    "\n",
    "def conditional_number(a, b, c, x_0, x_delta):\n",
    "    return (np.abs(polynomium(a, b, c, (x_0 + x_delta)) - polynomium(a, b, c, x_0)))/np.abs(polynomium(a, b, c, x_0)) * np.abs(x_0)/np.abs(x_delta)\n",
    "\n",
    "a = 10**-5\n",
    "b = 10**3\n",
    "c = 10**3\n",
    "x_delta = 10e-5\n",
    "d_0 = [10**1, 10**0, 10**-1, 10**-2, 10**-3, 10**-4]\n",
    "x_0_hat = -1\n",
    "x_axis = [np.linspace((x_0_hat - i), (x_0_hat + i), 1000) for i in d_0]\n",
    "\n",
    "\n",
    "plt.Figure()\n",
    "\n",
    "plt.plot(x_axis[5], conditional_number(a, b, c, x_axis[5], x_delta=x_delta))\n",
    "plt.grid()"
   ]
  }
 ],
 "metadata": {
  "kernelspec": {
   "display_name": ".venv",
   "language": "python",
   "name": "python3"
  },
  "language_info": {
   "codemirror_mode": {
    "name": "ipython",
    "version": 3
   },
   "file_extension": ".py",
   "mimetype": "text/x-python",
   "name": "python",
   "nbconvert_exporter": "python",
   "pygments_lexer": "ipython3",
   "version": "3.12.9"
  }
 },
 "nbformat": 4,
 "nbformat_minor": 2
}
