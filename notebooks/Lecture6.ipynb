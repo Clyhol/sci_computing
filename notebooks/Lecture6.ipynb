{
 "cells": [
  {
   "cell_type": "code",
   "execution_count": 1,
   "metadata": {},
   "outputs": [],
   "source": [
    "import time\n",
    "from dask.distributed import Client, wait\n",
    "import matplotlib.pyplot as plt\n",
    "import numpy as np"
   ]
  },
  {
   "cell_type": "code",
   "execution_count": 2,
   "metadata": {},
   "outputs": [],
   "source": [
    "# this function returns the number of times the point fell\n",
    "# within the unit circle out of n attempts\n",
    "def in_circle(n, dummy):\n",
    "    coords = np.random.rand(n,2) # random coordinates in (n,2) array\n",
    "    count = 0\n",
    "    for i in range(n):\n",
    "        if (coords[i][0])**2 + (coords[i][1])**2 < 1:\n",
    "            count += 1\n",
    "    return count\n",
    "\n",
    "\n",
    "# this function calculates the pi in parallel and measures\n",
    "# the runtime\n",
    "def parallel_pi(num_processors, num_points, num_calls, client):\n",
    "    np.random.seed(42)\n",
    "       \n",
    "    start = time.time()\n",
    "    \n",
    "    counts = client.map(in_circle, [num_points]*num_calls, range(num_calls))\n",
    "    total = client.submit(sum, counts)\n",
    "    wait(total) # wait for the total process to finish\n",
    "\n",
    "    pi_estimate = 4*total.result()/num_points/num_calls\n",
    "    \n",
    "    stop = time.time()\n",
    "    time_ex = stop-start # runtime\n",
    "    \n",
    "    return [pi_estimate, time_ex]"
   ]
  },
  {
   "cell_type": "code",
   "execution_count": 3,
   "metadata": {},
   "outputs": [],
   "source": [
    "num_cores = 20\n",
    "client = Client(n_workers = num_cores)"
   ]
  },
  {
   "cell_type": "code",
   "execution_count": 6,
   "metadata": {},
   "outputs": [],
   "source": [
    "[pi_estimate, time_ex] = parallel_pi(num_cores, 100000, 1000, client)"
   ]
  },
  {
   "cell_type": "code",
   "execution_count": 28,
   "metadata": {},
   "outputs": [],
   "source": [
    "client.cluster.close()\n",
    "client.close()"
   ]
  }
 ],
 "metadata": {
  "kernelspec": {
   "display_name": ".venv",
   "language": "python",
   "name": "python3"
  },
  "language_info": {
   "codemirror_mode": {
    "name": "ipython",
    "version": 3
   },
   "file_extension": ".py",
   "mimetype": "text/x-python",
   "name": "python",
   "nbconvert_exporter": "python",
   "pygments_lexer": "ipython3",
   "version": "3.10.12"
  }
 },
 "nbformat": 4,
 "nbformat_minor": 2
}
