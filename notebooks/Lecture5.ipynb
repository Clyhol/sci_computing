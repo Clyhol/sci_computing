{
 "cells": [
  {
   "cell_type": "code",
   "execution_count": 1,
   "metadata": {},
   "outputs": [],
   "source": [
    "import time\n",
    "import multiprocessing as mp\n",
    "import matplotlib.pyplot as plt\n",
    "import numpy as np"
   ]
  },
  {
   "cell_type": "code",
   "execution_count": 2,
   "metadata": {},
   "outputs": [],
   "source": [
    "# this function returns the number of times the point fell\n",
    "# within the unit circle out of n attempts\n",
    "def in_circle(n):\n",
    "    coords = np.random.rand(n,2) # random coordinates in (n,2) array\n",
    "    count = 0\n",
    "    for i in range(n):\n",
    "        if (coords[i][0])**2 + (coords[i][1])**2 < 1:\n",
    "            count += 1\n",
    "    return count\n",
    "\n",
    "\n",
    "# this function calculates the pi in parallel and measures\n",
    "# the runtime\n",
    "def parallel_pi(num_processors,chunk_size,num_chunks):\n",
    "    np.random.seed(42)\n",
    "    pool = mp.Pool(processes=num_processors)\n",
    "    \n",
    "    start = time.time()\n",
    "    \n",
    "    # we apply the in_circle function N times and\n",
    "    # the mp package takes care of \"feeding\" them to the processes\n",
    "    results = [pool.apply_async(in_circle, (chunk_size,)) for i in range(num_chunks)]\n",
    "    \n",
    "    # we close the pool and wait for results\n",
    "    pool.close()\n",
    "    pool.join()\n",
    "\n",
    "    # here we get the K values one by one\n",
    "    K_values = [result.get() for result in results]\n",
    "\n",
    "    # ...and estimate the pi by aggregating all the attempts\n",
    "    pi_n = [4*K_value*(1/chunk_size) for K_value in K_values]    \n",
    "    pi_estimate = sum(pi_n)*(1/num_chunks)\n",
    "    \n",
    "    stop = time.time()\n",
    "    time_ex = stop-start # runtime\n",
    "    \n",
    "    return [pi_estimate, time_ex]"
   ]
  },
  {
   "cell_type": "code",
   "execution_count": 3,
   "metadata": {},
   "outputs": [],
   "source": [
    "def plot_results(M_values, time_values):\n",
    "    plt.figure()\n",
    "    plt.plot(M_values, time_values)\n",
    "    plt.xlabel(\"M\")\n",
    "    plt.ylabel(\"Execution time [s]\")\n",
    "    plt.show()\n",
    "\n",
    "    speedup = [time_values[0]/i for i in time_values]\n",
    "\n",
    "    plt.figure()\n",
    "    plt.plot(M_values, speedup)\n",
    "    plt.xlabel(\"M\")\n",
    "    plt.ylabel(\"Speedup\")\n",
    "    plt.show()"
   ]
  },
  {
   "cell_type": "markdown",
   "metadata": {},
   "source": [
    "## Experiment with using multiple cores"
   ]
  },
  {
   "cell_type": "code",
   "execution_count": 2,
   "metadata": {},
   "outputs": [
    {
     "name": "stdout",
     "output_type": "stream",
     "text": [
      "16 processors found\n",
      "Number of processes:\n",
      "1\n"
     ]
    },
    {
     "ename": "NameError",
     "evalue": "name 'parallel_pi' is not defined",
     "output_type": "error",
     "traceback": [
      "\u001b[0;31m---------------------------------------------------------------------------\u001b[0m",
      "\u001b[0;31mNameError\u001b[0m                                 Traceback (most recent call last)",
      "Cell \u001b[0;32mIn[2], line 13\u001b[0m\n\u001b[1;32m     11\u001b[0m \u001b[38;5;28;01mfor\u001b[39;00m P \u001b[38;5;129;01min\u001b[39;00m P_values:\n\u001b[1;32m     12\u001b[0m     \u001b[38;5;28mprint\u001b[39m(P)\n\u001b[0;32m---> 13\u001b[0m     result_values\u001b[38;5;241m.\u001b[39mappend( \u001b[43mparallel_pi\u001b[49m(P, chunk_size, num_chunks) )\n\u001b[1;32m     15\u001b[0m time_values \u001b[38;5;241m=\u001b[39m [result_values[i][\u001b[38;5;241m1\u001b[39m] \u001b[38;5;28;01mfor\u001b[39;00m i \u001b[38;5;129;01min\u001b[39;00m \u001b[38;5;28mrange\u001b[39m(core_count)]\n\u001b[1;32m     16\u001b[0m pi_values \u001b[38;5;241m=\u001b[39m [result_values[i][\u001b[38;5;241m0\u001b[39m] \u001b[38;5;28;01mfor\u001b[39;00m i \u001b[38;5;129;01min\u001b[39;00m \u001b[38;5;28mrange\u001b[39m(core_count)]\n",
      "\u001b[0;31mNameError\u001b[0m: name 'parallel_pi' is not defined"
     ]
    }
   ],
   "source": [
    "core_count = mp.cpu_count() # detected number of cores\n",
    "print(f\"{core_count} processors found\")\n",
    "P_values = range(1, core_count+1) # let's try from 1 to P_max\n",
    "\n",
    "chunk_size = 10000\n",
    "num_chunks = 1000\n",
    "\n",
    "print('Number of processes:')\n",
    "\n",
    "result_values = []\n",
    "for P in P_values:\n",
    "    print(P)\n",
    "    result_values.append( parallel_pi(P, chunk_size, num_chunks) )\n",
    "    \n",
    "time_values = [result_values[i][1] for i in range(core_count)]\n",
    "pi_values = [result_values[i][0] for i in range(core_count)]\n",
    "pi_errors = [abs(pi_est-np.pi) for pi_est in pi_values]\n",
    "\n",
    "plot_results(P_values, time_values)\n",
    "print(pi_values)\n",
    "print(pi_errors)\n"
   ]
  },
  {
   "cell_type": "markdown",
   "metadata": {},
   "source": [
    "## Experimenting with varying chunk size"
   ]
  },
  {
   "cell_type": "markdown",
   "metadata": {},
   "source": [
    "#### Using 1 core"
   ]
  },
  {
   "cell_type": "code",
   "execution_count": 5,
   "metadata": {},
   "outputs": [
    {
     "name": "stdout",
     "output_type": "stream",
     "text": [
      "Using chunk size: 10\n",
      "Using chunk size: 100\n",
      "Using chunk size: 1000\n",
      "Using chunk size: 10000\n",
      "Using chunk size: 100000\n",
      "Using chunk size: 1000000\n"
     ]
    },
    {
     "data": {
      "image/png": "[encoded data removed]",
      "text/plain": [
       "<Figure size 640x480 with 1 Axes>"
      ]
     },
     "metadata": {},
     "output_type": "display_data"
    }
   ],
   "source": [
    "core_count = mp.cpu_count()\n",
    "num_cores = 1\n",
    "\n",
    "chunk_sizes = [10, 100, 1000, 10000, 100000, 1000000] # [10, 100, ..., 1e6]\n",
    "\n",
    "results = []\n",
    "for size in chunk_sizes:\n",
    "    print(f\"Using chunk size: {size}\")\n",
    "    num_chunks = int(1e6/size)\n",
    "    results.append(parallel_pi(num_processors=num_cores, chunk_size=size, num_chunks=num_chunks))\n",
    "    \n",
    "\n",
    "time_values = [results[i][1] for i in range(6)]\n",
    "plt.figure()\n",
    "plt.semilogx(chunk_sizes, time_values)\n",
    "plt.xlabel(\"Chunk size\")\n",
    "plt.ylabel(\"Execution time [S]\")\n",
    "plt.show()\n",
    "    "
   ]
  },
  {
   "cell_type": "markdown",
   "metadata": {},
   "source": [
    "#### Using 16 cores"
   ]
  },
  {
   "cell_type": "code",
   "execution_count": 6,
   "metadata": {},
   "outputs": [
    {
     "name": "stdout",
     "output_type": "stream",
     "text": [
      "Using chunk size: 10\n",
      "Using chunk size: 100\n",
      "Using chunk size: 1000\n",
      "Using chunk size: 10000\n",
      "Using chunk size: 100000\n",
      "Using chunk size: 1000000\n"
     ]
    },
    {
     "data": {
      "image/png": "[encoded data removed]",
      "text/plain": [
       "<Figure size 640x480 with 1 Axes>"
      ]
     },
     "metadata": {},
     "output_type": "display_data"
    }
   ],
   "source": [
    "core_count = mp.cpu_count()\n",
    "num_cores = core_count\n",
    "\n",
    "chunk_sizes = [10, 100, 1000, 10000, 100000, 1000000] # [10, 100, ..., 1e6]\n",
    "\n",
    "results = []\n",
    "for size in chunk_sizes:\n",
    "    print(f\"Using chunk size: {size}\")\n",
    "    num_chunks = np.int64(1e6/size)\n",
    "    results.append(parallel_pi(num_processors=num_cores, chunk_size=size, num_chunks=num_chunks))\n",
    "    \n",
    "\n",
    "time_values = [results[i][1] for i in range(len(chunk_sizes))]\n",
    "plt.figure()\n",
    "plt.semilogx(chunk_sizes, time_values)\n",
    "plt.xlabel(\"Chunk size\")\n",
    "plt.ylabel(\"Execution time [S]\")\n",
    "plt.show()"
   ]
  },
  {
   "cell_type": "markdown",
   "metadata": {},
   "source": [
    "Observations show that for a single core, smaller but a large amount of chunks is better.\n",
    "\n",
    "For 16 cores we however see that the optimal chunk size grows by a factor 10, meaning we want bigger and fewer chunks.\n",
    "\n",
    "This maybe makes sense as cores need to syncronize and communicate with each other inbetween working on chunks, and if they chunks are small this may happen often leading to a lot of overhead.\n",
    "\n",
    "The fall in performance at very large chunk sizes could maybe be explained by the individual cores L1 or L2 cache size, not being able to fit the entire data"
   ]
  },
  {
   "cell_type": "markdown",
   "metadata": {},
   "source": [
    "## Map-Filter-Reduce"
   ]
  },
  {
   "cell_type": "code",
   "execution_count": 3,
   "metadata": {},
   "outputs": [],
   "source": [
    "from functools import reduce\n",
    "\n",
    "def sub_seven(x):\n",
    "    return x-7\n",
    "\n",
    "def is_odd(x):\n",
    "    return x % 2 == 1\n",
    "\n",
    "def add(x, y):\n",
    "    return x + y"
   ]
  },
  {
   "cell_type": "code",
   "execution_count": 9,
   "metadata": {},
   "outputs": [
    {
     "name": "stdout",
     "output_type": "stream",
     "text": [
      "234969946\n"
     ]
    }
   ],
   "source": [
    "N = 10000000\n",
    "x = np.random.randint(10,100, N)\n",
    "\n",
    "result = map(sub_seven, x)\n",
    "\n",
    "result = filter(is_odd, result)\n",
    "\n",
    "result = reduce(add, result, 0)\n",
    "\n",
    "print(result)\n"
   ]
  }
 ],
 "metadata": {
  "kernelspec": {
   "display_name": ".venv",
   "language": "python",
   "name": "python3"
  },
  "language_info": {
   "codemirror_mode": {
    "name": "ipython",
    "version": 3
   },
   "file_extension": ".py",
   "mimetype": "text/x-python",
   "name": "python",
   "nbconvert_exporter": "python",
   "pygments_lexer": "ipython3",
   "version": "3.10.12"
  }
 },
 "nbformat": 4,
 "nbformat_minor": 2
}
