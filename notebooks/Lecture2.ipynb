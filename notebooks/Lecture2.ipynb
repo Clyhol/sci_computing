{
 "cells": [
  {
   "cell_type": "code",
   "execution_count": 1,
   "metadata": {},
   "outputs": [],
   "source": [
    "%reset -f\n",
    "import numpy as np\n",
    "from timeit import timeit\n",
    "from numba import jit\n",
    "from timeit import default_timer as timer"
   ]
  },
  {
   "cell_type": "markdown",
   "metadata": {},
   "source": [
    "### Exercise 1 - Unrolling for loops"
   ]
  },
  {
   "cell_type": "code",
   "execution_count": 2,
   "metadata": {},
   "outputs": [],
   "source": [
    "N = 1000000\n",
    "a = np.random.random(N)\n",
    "b = np.random.random(N)"
   ]
  },
  {
   "cell_type": "code",
   "execution_count": 3,
   "metadata": {},
   "outputs": [],
   "source": [
    "def no_unroll(N):\n",
    "    sum=0\n",
    "    i = 0\n",
    "    while i < N:\n",
    "        sum += a[i] * b[i]\n",
    "        i += 1\n",
    "    return sum\n",
    "\n",
    "def unroll_two_step(N):\n",
    "    i = 0\n",
    "    while i < N//2:\n",
    "        temp1 = a[2*i] * b[2*i] # evens\n",
    "        temp2 = a[2*i+1] * b[2*i+1] #odds\n",
    "        i += 1\n",
    "    return temp1 + temp2\n",
    "\n",
    "def unroll_four_step(N):\n",
    "    i = 1\n",
    "    while i < N//4:\n",
    "        temp1 = a[4*i] * b[4*i]\n",
    "        temp2 = a[4*i+1] * b[4*i+1]\n",
    "        temp3 = a[4*i+2] * b[4*i+2]\n",
    "        temp4 = a[4*i+3] * b[4*i+3]\n",
    "        i += 1\n",
    "    return temp1 + temp2 + temp3 + temp4"
   ]
  },
  {
   "cell_type": "code",
   "execution_count": 4,
   "metadata": {},
   "outputs": [
    {
     "name": "stdout",
     "output_type": "stream",
     "text": [
      "No unrolling\n",
      "555 ms ± 45.9 ms per loop (mean ± std. dev. of 7 runs, 1 loop each)\n",
      "\n",
      "2-step unroll\n",
      "569 ms ± 38.6 ms per loop (mean ± std. dev. of 7 runs, 1 loop each)\n",
      "\n",
      "4-step unroll\n",
      "537 ms ± 33.9 ms per loop (mean ± std. dev. of 7 runs, 1 loop each)\n"
     ]
    }
   ],
   "source": [
    "print(\"No unrolling\")\n",
    "%timeit no_unroll(N)\n",
    "\n",
    "print(\"\\n2-step unroll\")\n",
    "%timeit unroll_two_step(N)\n",
    "\n",
    "print(\"\\n4-step unroll\")\n",
    "%timeit unroll_four_step(N)"
   ]
  },
  {
   "cell_type": "code",
   "execution_count": 5,
   "metadata": {},
   "outputs": [],
   "source": [
    "@jit\n",
    "def no_unroll(N):\n",
    "    sum=0\n",
    "    i = 0\n",
    "    while i < N:\n",
    "        sum += a[i] * b[i]\n",
    "        i += 1\n",
    "    return sum\n",
    "\n",
    "@jit\n",
    "def unroll_two_step(N):\n",
    "    i = 0\n",
    "    while i < N//2:\n",
    "        temp1 = a[2*i] * b[2*i] # evens\n",
    "        temp2 = a[2*i+1] * b[2*i+1] #odds\n",
    "        i += 1\n",
    "    return temp1 + temp2\n",
    "\n",
    "@jit\n",
    "def unroll_four_step(N):\n",
    "    i = 1\n",
    "    while i < N//4:\n",
    "        temp1 = a[4*i] * b[4*i]\n",
    "        temp2 = a[4*i+1] * b[4*i+1]\n",
    "        temp3 = a[4*i+2] * b[4*i+2]\n",
    "        temp4 = a[4*i+3] * b[4*i+3]\n",
    "        i += 1\n",
    "    return temp1 + temp2 + temp3 + temp4"
   ]
  },
  {
   "cell_type": "code",
   "execution_count": 6,
   "metadata": {},
   "outputs": [
    {
     "name": "stdout",
     "output_type": "stream",
     "text": [
      "No unrolling\n",
      "1.9 ms ± 75.8 μs per loop (mean ± std. dev. of 7 runs, 1 loop each)\n",
      "\n",
      "2-step unroll\n",
      "371 ns ± 9.97 ns per loop (mean ± std. dev. of 7 runs, 1,000,000 loops each)\n",
      "\n",
      "4-step unroll\n",
      "The slowest run took 12.65 times longer than the fastest. This could mean that an intermediate result is being cached.\n",
      "1.65 μs ± 2.1 μs per loop (mean ± std. dev. of 7 runs, 1 loop each)\n"
     ]
    }
   ],
   "source": [
    "print(\"No unrolling\")\n",
    "%timeit no_unroll(N)\n",
    "\n",
    "print(\"\\n2-step unroll\")\n",
    "%timeit unroll_two_step(N)\n",
    "\n",
    "print(\"\\n4-step unroll\")\n",
    "%timeit unroll_four_step(N)"
   ]
  },
  {
   "cell_type": "markdown",
   "metadata": {},
   "source": [
    "### Exercise 2 - Cache blocking"
   ]
  },
  {
   "cell_type": "code",
   "execution_count": null,
   "metadata": {},
   "outputs": [],
   "source": [
    "N = 10000\n",
    "data = np.zeros(N)\n",
    "\n",
    "@jit\n",
    "def cache_blocking(l1_size, n_runs, data):\n",
    "    b = 0\n",
    "    n = 0\n",
    "    i = 0\n",
    "    while b in range(data.shape[0]//l1_size):\n",
    "        blockstart = 0\n",
    "        while n in range(n_runs):\n",
    "            while i in range(l1_size):\n",
    "                data[blockstart+i] = 2.3*data[blockstart+i]+1.2\n",
    "                i += 1\n",
    "        n += 1\n",
    "    blockstart += l1_size\n",
    "    b += 1\n",
    "    \n",
    "    \n",
    "start_time = timer()\n",
    "cache_blocking(5000, 5, data)\n",
    "end_time = timer()\n",
    "print(f\"time elapsed: {end_time - start_time}\")"
   ]
  }
 ],
 "metadata": {
  "kernelspec": {
   "display_name": ".venv",
   "language": "python",
   "name": "python3"
  },
  "language_info": {
   "codemirror_mode": {
    "name": "ipython",
    "version": 3
   },
   "file_extension": ".py",
   "mimetype": "text/x-python",
   "name": "python",
   "nbconvert_exporter": "python",
   "pygments_lexer": "ipython3",
   "version": "3.10.12"
  }
 },
 "nbformat": 4,
 "nbformat_minor": 2
}
