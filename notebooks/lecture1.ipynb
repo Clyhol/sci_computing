{
 "cells": [
  {
   "cell_type": "markdown",
   "metadata": {},
   "source": [
    "## Exercise 1: Use of registers\n",
    "\n",
    "**Create a vector X of N random numbers, where N is in the order of 1e6 to 1e8 (depending on the speed of your computer).**\n",
    "\n",
    "**Create the following implementations to calculate the difference between the consecutive elements in X: (resulting in a vector Y with N-1 elements)**\n",
    "1. Use a regular for loop and calculate the difference as Y(i) = X(i+1) - X(i), where X and Y are implemented as Python lists.\n",
    "2. Extend the above program with intermediate variables (e.g. x_next and x_now) to store the X(i+1) value for the next iteration.\n",
    "3. Same as 1, but store X and Y as NumPy arrays.\n",
    "4. Same as 2, but store X and Y as NumPy arrays.\n",
    "5. Use a \"diff\" function to compute the result thereby exploiting vector computation (wide registers) - in Python this function is \"numpy.diff\". Remember to include \"import numpy\".\n",
    "\n",
    "**Measure the execution time of all implementations and explain the difference in performance.**"
   ]
  },
  {
   "cell_type": "code",
   "execution_count": 1,
   "metadata": {},
   "outputs": [],
   "source": [
    "import numpy as np\n",
    "import random as rnd\n",
    "from timeit import default_timer as timer"
   ]
  },
  {
   "cell_type": "code",
   "execution_count": 2,
   "metadata": {},
   "outputs": [],
   "source": [
    "N = 10000000\n",
    "X = [rnd.randint(1, 3) for i in range(N)]\n",
    "X_np = np.random.randint(1, 3, N)"
   ]
  },
  {
   "cell_type": "code",
   "execution_count": 3,
   "metadata": {},
   "outputs": [
    {
     "name": "stdout",
     "output_type": "stream",
     "text": [
      "Elapsed time: 0.9888120129980962\n"
     ]
    }
   ],
   "source": [
    "# direct calculation\n",
    "Y = []\n",
    "start_time = timer()\n",
    "for i in range(1, N):\n",
    "    Y.append(X[i] - X[i-1])\n",
    "end_time = timer()\n",
    "print(f\"Elapsed time: {end_time - start_time}\")"
   ]
  },
  {
   "cell_type": "code",
   "execution_count": 4,
   "metadata": {},
   "outputs": [
    {
     "name": "stdout",
     "output_type": "stream",
     "text": [
      "Elapsed time: 1.3310955070010095\n"
     ]
    }
   ],
   "source": [
    "# intermediate variables\n",
    "Y = []\n",
    "start_time = timer()\n",
    "for i in range(1, N):\n",
    "    x_current = X[i]\n",
    "    x_prev = X[i-1]\n",
    "    Y.append(x_current - x_prev)\n",
    "end_time = timer()\n",
    "print(f\"Elapsed time: {end_time - start_time}\")"
   ]
  },
  {
   "cell_type": "code",
   "execution_count": 5,
   "metadata": {},
   "outputs": [
    {
     "name": "stdout",
     "output_type": "stream",
     "text": [
      "Elapsed time: 1.5559040719999757\n"
     ]
    }
   ],
   "source": [
    "# as numpy arrays\n",
    "Y = np.zeros(N) # preallocate memory\n",
    "start_time = timer()\n",
    "for i in range(1, N):\n",
    "    Y[i-1] = X[i] - X[i-1]\n",
    "end_time = timer()\n",
    "print(f\"Elapsed time: {end_time - start_time}\")"
   ]
  },
  {
   "cell_type": "code",
   "execution_count": 6,
   "metadata": {},
   "outputs": [
    {
     "name": "stdout",
     "output_type": "stream",
     "text": [
      "Elapsed time: 1.9672196399988024\n"
     ]
    }
   ],
   "source": [
    "# as numpy array and intermediate variables\n",
    "Y = np.zeros(N)\n",
    "start_time = timer()\n",
    "for i in range(1, N):\n",
    "    x_current = X[i]\n",
    "    x_prev = X[i-1]\n",
    "    Y[i-1] = x_current - x_prev\n",
    "end_time = timer()\n",
    "print(f\"Elapsed time: {end_time - start_time}\")"
   ]
  },
  {
   "cell_type": "code",
   "execution_count": 7,
   "metadata": {},
   "outputs": [
    {
     "name": "stdout",
     "output_type": "stream",
     "text": [
      "Elapsed time: 0.33333928600040963\n"
     ]
    }
   ],
   "source": [
    "# using np.diff\n",
    "start_time = timer()\n",
    "np.diff(X)\n",
    "end_time = timer()\n",
    "print(f\"Elapsed time: {end_time - start_time}\")"
   ]
  },
  {
   "cell_type": "markdown",
   "metadata": {},
   "source": [
    "## Memory Organization - C vs Fortrand\n",
    "\n",
    "**We have 6 elements stored contiguous in memory in the order: 1, 2, 3, 4, 5, 6. In the following, we read this contiguous data into arrays in different ways. What do the arrays look like if we read the data as:**\n",
    "\n",
    "1. a 2x3 matrix treating data as column-major (Fortran style) as F2x3?\n",
    "\n",
    "\\begin{matrix}\n",
    "1 & 3 & 5\\\\\n",
    "2 & 4 & 6\n",
    "\\end{matrix}\n",
    "\n",
    "2. a 3x2 matrix treating data as column-major (Fortran style) as F3x2?\n",
    "\n",
    "\\begin{matrix}\n",
    "1 & 4\\\\\n",
    "2 & 5\\\\\n",
    "3 & 6\n",
    "\\end{matrix}\n",
    "\n",
    "3. a 2x3 matrix treating data as row-major (C style) as C2x3?\n",
    "\n",
    "\\begin{matrix}\n",
    "1 & 2 & 3\\\\\n",
    "4 & 5 & 6\n",
    "\\end{matrix}\n",
    "\n",
    "4. a 3x2 matrix treating data as row-major (C style) as C3x2?\n",
    "\n",
    "\\begin{matrix}\n",
    "1 & 2\\\\\n",
    "3 & 4\\\\\n",
    "5 & 6\n",
    "\\end{matrix}\n",
    "\n",
    "**Explain the relations between the different matrices and how this may be utilized.**\n",
    "\n",
    "Depending on if we read these matrices in Fortran or C style, they will have different representations in memory. Ideally we want the representation that fits the order we need them best, i.e. seqentially."
   ]
  },
  {
   "cell_type": "code",
   "execution_count": 8,
   "metadata": {},
   "outputs": [],
   "source": [
    "N = 1000000\n",
    "M = 100\n",
    "X = np.random.randint(1, 3, (N, M))\n",
    "Y = np.random.randint(1, 3, (M, N))"
   ]
  },
  {
   "cell_type": "code",
   "execution_count": 9,
   "metadata": {},
   "outputs": [
    {
     "name": "stdout",
     "output_type": "stream",
     "text": [
      "Elapsed time for rows: 0.05388033000053838, summed: 1000000 rows\n",
      "Elapsed time for cols: 0.04886839500250062, summed: 100 cols\n"
     ]
    }
   ],
   "source": [
    "# sums for X\n",
    "start_time = timer()\n",
    "X_row_sum = np.sum(X, axis=1)\n",
    "end_time = timer()\n",
    "print(f\"Elapsed time for rows: {end_time - start_time}, summed: {len(X_row_sum)} rows\")\n",
    "\n",
    "start_time = timer()\n",
    "X_col_sum = np.sum(X, axis=0)\n",
    "end_time = timer()\n",
    "print(f\"Elapsed time for cols: {end_time - start_time}, summed: {len(X_col_sum)} cols\")"
   ]
  },
  {
   "cell_type": "code",
   "execution_count": 10,
   "metadata": {},
   "outputs": [
    {
     "name": "stdout",
     "output_type": "stream",
     "text": [
      "Elapsed time for rows: 0.04925018100038869, summed: 100 rows\n",
      "Elapsed time for cols: 0.08068446600009338, summed: 1000000 cols\n"
     ]
    }
   ],
   "source": [
    "# sums for Y\n",
    "start_time = timer()\n",
    "Y_row_sum = np.sum(Y, axis=1)\n",
    "end_time = timer()\n",
    "print(f\"Elapsed time for rows: {end_time - start_time}, summed: {len(Y_row_sum)} rows\")\n",
    "\n",
    "start_time = timer()\n",
    "Y_col_sum = np.sum(Y, axis=0)\n",
    "end_time = timer()\n",
    "print(f\"Elapsed time for cols: {end_time - start_time}, summed: {len(Y_col_sum)} cols\")"
   ]
  }
 ],
 "metadata": {
  "kernelspec": {
   "display_name": ".venv",
   "language": "python",
   "name": "python3"
  },
  "language_info": {
   "codemirror_mode": {
    "name": "ipython",
    "version": 3
   },
   "file_extension": ".py",
   "mimetype": "text/x-python",
   "name": "python",
   "nbconvert_exporter": "python",
   "pygments_lexer": "ipython3",
   "version": "3.12.9"
  }
 },
 "nbformat": 4,
 "nbformat_minor": 2
}
